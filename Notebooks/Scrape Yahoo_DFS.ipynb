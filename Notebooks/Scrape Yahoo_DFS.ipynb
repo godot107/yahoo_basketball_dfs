{
 "cells": [
  {
   "cell_type": "code",
   "execution_count": 57,
   "id": "459742d2-690f-4071-8527-fc88c25e38c2",
   "metadata": {},
   "outputs": [],
   "source": [
    "from selenium import webdriver\n",
    "from selenium.webdriver.common.by import By\n",
    "from selenium.webdriver.common.keys import Keys\n",
    "from selenium.webdriver.support.ui import WebDriverWait\n",
    "from selenium.webdriver.support import expected_conditions as EC\n",
    "from selenium.common.exceptions import TimeoutException\n",
    "import time\n",
    "import pandas as pd\n",
    "from datetime import datetime\n",
    "\n",
    "\n",
    "# Set up the web driver (make sure to install the appropriate WebDriver, like ChromeDriver)\n",
    "options = webdriver.ChromeOptions()\n",
    "#options.add_argument(\"--headless\")  # Run headlessly for better performance, but no window\n",
    "\n",
    "options.add_experimental_option(\"prefs\", {\n",
    "    \"download.prompt_for_download\": False,\n",
    "    \"download.directory_upgrade\": True, \n",
    "    #\"safebrowsing.enabled\": True\n",
    "})\n",
    "\n",
    "\n",
    "driver = webdriver.Chrome(service=webdriver.chrome.service.Service('../src/chromedriver-win32/chromedriver.exe'), options=options)\n"
   ]
  },
  {
   "cell_type": "code",
   "execution_count": 58,
   "id": "519fa246-1ba0-4f27-8d0e-9b72497b7f2a",
   "metadata": {},
   "outputs": [],
   "source": [
    "# Need to authenticate...\n",
    "\n",
    "contest_id = '14294098'\n",
    "lineup_id = '21877226'\n",
    "driver.get(f\"https://sports.yahoo.com/dailyfantasy/contest/{contest_id}/export/{lineup_id}\")\n"
   ]
  }
 ],
 "metadata": {
  "kernelspec": {
   "display_name": "Python 3 (ipykernel)",
   "language": "python",
   "name": "python3"
  },
  "language_info": {
   "codemirror_mode": {
    "name": "ipython",
    "version": 3
   },
   "file_extension": ".py",
   "mimetype": "text/x-python",
   "name": "python",
   "nbconvert_exporter": "python",
   "pygments_lexer": "ipython3",
   "version": "3.12.1"
  }
 },
 "nbformat": 4,
 "nbformat_minor": 5
}
