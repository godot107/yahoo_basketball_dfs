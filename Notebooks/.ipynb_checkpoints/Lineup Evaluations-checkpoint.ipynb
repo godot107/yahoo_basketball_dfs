{
 "cells": [
  {
   "cell_type": "code",
   "execution_count": 11,
   "id": "9e993358-c64d-49b0-bbef-e36d85f74170",
   "metadata": {},
   "outputs": [
    {
     "name": "stderr",
     "output_type": "stream",
     "text": [
      "C:\\Users\\manwi\\AppData\\Local\\Temp\\ipykernel_6764\\2730525265.py:5: DeprecationWarning: datetime.datetime.utcnow() is deprecated and scheduled for removal in a future version. Use timezone-aware objects to represent datetimes in UTC: datetime.datetime.now(datetime.UTC).\n",
      "  today = datetime.utcnow().date()\n"
     ]
    }
   ],
   "source": [
    "import pandas as pd\n",
    "from nba_api.stats.endpoints import playergamelog\n",
    "from nba_api.stats.static import players\n",
    "from datetime import datetime\n",
    "today = datetime.utcnow().date()\n",
    "\n",
    "import sys\n",
    "sys.path.append('../src')\n",
    "\n",
    "from nba_utils import weighted_FPS, project_FPS, calculate_FPS"
   ]
  },
  {
   "cell_type": "markdown",
   "id": "6dba628a-1370-43b9-b7ae-2fa518cc4f43",
   "metadata": {},
   "source": [
    "Methodology and Approaches:\n",
    "\n",
    "1. Average FPS\n",
    "2. Rolling Statistics for key stats\n",
    "3. Exponential Moving Average"
   ]
  },
  {
   "cell_type": "code",
   "execution_count": 12,
   "id": "d9c26231-e501-4c26-9637-ad2afbd7b523",
   "metadata": {},
   "outputs": [],
   "source": [
    "def rolling_avg_fps_func(df):\n",
    "    return df['FPS'][-5:].mean()\n",
    "\n",
    "def ewm_func(df):\n",
    "\n",
    "    return df['FPS'].ewm(span=5, adjust=False).mean().iloc[-1]"
   ]
  },
  {
   "cell_type": "code",
   "execution_count": 2,
   "id": "faf5843c-215a-4d05-a906-d83c1bb45f34",
   "metadata": {},
   "outputs": [],
   "source": [
    "data = pd.read_csv(f\"../outputs/lineup/lineup_{today}.csv\")"
   ]
  },
  {
   "cell_type": "code",
   "execution_count": 4,
   "id": "15d5eb69-6891-492f-8e88-ab284cfdb8b2",
   "metadata": {},
   "outputs": [],
   "source": [
    "features = ['FPPG', 'ORTG','DRTG','Opponent_ORTG','Opponent_DRtg','Pace','Opponent_Pace','PTS','REB','AST','ST','BLK','TO', 'FPS1','FPS2','FPS3','FPS4','FPS5','Team_Odds','Opponent_Odds', 'FPPG_std']"
   ]
  },
  {
   "cell_type": "code",
   "execution_count": 16,
   "id": "7b5cf740-f619-4a2c-ad4d-f2d14f43e40b",
   "metadata": {},
   "outputs": [],
   "source": [
    "# Trying to figure out a way as opposed to copy and pasting from the form.\n",
    "\n",
    "lineup = ['Keaton Wallace','Garrison Mathews','Jalen Suggs','Dyson Daniels','Jalen Johnson','Karl-Anthony Towns','Goga Bitadze','Giannis Antetokounmpo']\n",
    "lineup2 = ['Davion Mitchell','Bradley Beal','Stephen Curry','Ochai Agbaji','Giannis Antetokounmpo','Naji Marshall','Jakob Pöltl','Toumani Camara']"
   ]
  },
  {
   "cell_type": "code",
   "execution_count": 14,
   "id": "a5d503e3-3f64-40aa-afd3-8b3da9034a77",
   "metadata": {},
   "outputs": [
    {
     "name": "stdout",
     "output_type": "stream",
     "text": [
      "(252.9036871073177, {'Keaton Wallace': 11.429053497942387, 'Garrison Mathews': 20.036382665244123, 'Jalen Suggs': 35.369560647371955, 'Dyson Daniels': 31.07730630493319, 'Jalen Johnson': 41.108663878022206, 'Karl-Anthony Towns': 43.283364324544024, 'Goga Bitadze': 17.58873342478281, 'Giannis Antetokounmpo': 53.01062236447696})\n",
      "(250.86, {'Keaton Wallace': 11.280000000000001, 'Garrison Mathews': 20.200000000000003, 'Jalen Suggs': 35.4, 'Dyson Daniels': 30.880000000000003, 'Jalen Johnson': 40.8, 'Karl-Anthony Towns': 43.14, 'Goga Bitadze': 16.740000000000002, 'Giannis Antetokounmpo': 52.42})\n",
      "(232.771061321953, {'Keaton Wallace': 8.493827160493831, 'Garrison Mathews': 16.65581466239903, 'Jalen Suggs': 30.20201527544921, 'Dyson Daniels': 34.01191891479958, 'Jalen Johnson': 38.072658300733295, 'Karl-Anthony Towns': 39.02342630696541, 'Goga Bitadze': 12.526200274348424, 'Giannis Antetokounmpo': 53.78520042676422})\n"
     ]
    }
   ],
   "source": [
    "print(project_FPS(lineup, weighted_FPS))\n",
    "print(project_FPS(lineup, rolling_avg_fps_func))\n",
    "print(project_FPS(lineup, ewm_func))"
   ]
  },
  {
   "cell_type": "code",
   "execution_count": 17,
   "id": "bc89357b-594d-438a-8c53-7610a4087b69",
   "metadata": {},
   "outputs": [
    {
     "name": "stdout",
     "output_type": "stream",
     "text": [
      "(246.26791658904753, {'Davion Mitchell': 20.508142051516536, 'Bradley Beal': 33.81753391251334, 'Stephen Curry': 42.301344307270234, 'Ochai Agbaji': 24.73834657092697, 'Giannis Antetokounmpo': 53.01062236447696, 'Naji Marshall': 13.826337109857917, 'Jakob Pöltl': 35.43028637233485, 'Toumani Camara': 22.635303900150724})\n",
      "(244.42000000000004, {'Davion Mitchell': 20.259999999999998, 'Bradley Beal': 33.86, 'Stephen Curry': 41.94, 'Ochai Agbaji': 24.740000000000002, 'Giannis Antetokounmpo': 52.42, 'Naji Marshall': 13.36, 'Jakob Pöltl': 35.32000000000001, 'Toumani Camara': 22.520000000000003})\n",
      "(239.6570831004759, {'Davion Mitchell': 18.19775948788295, 'Bradley Beal': 34.03260173754002, 'Stephen Curry': 41.01069958847737, 'Ochai Agbaji': 24.061706379447582, 'Giannis Antetokounmpo': 53.78520042676422, 'Naji Marshall': 13.652344662907081, 'Jakob Pöltl': 31.497525783671193, 'Toumani Camara': 23.419245033785504})\n"
     ]
    }
   ],
   "source": [
    "print(project_FPS(lineup2, weighted_FPS))\n",
    "print(project_FPS(lineup2, rolling_avg_fps_func))\n",
    "print(project_FPS(lineup2, ewm_func))"
   ]
  }
 ],
 "metadata": {
  "kernelspec": {
   "display_name": "Python 3 (ipykernel)",
   "language": "python",
   "name": "python3"
  },
  "language_info": {
   "codemirror_mode": {
    "name": "ipython",
    "version": 3
   },
   "file_extension": ".py",
   "mimetype": "text/x-python",
   "name": "python",
   "nbconvert_exporter": "python",
   "pygments_lexer": "ipython3",
   "version": "3.12.1"
  }
 },
 "nbformat": 4,
 "nbformat_minor": 5
}
